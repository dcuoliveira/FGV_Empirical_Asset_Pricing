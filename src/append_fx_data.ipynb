{
 "cells": [
  {
   "cell_type": "code",
   "execution_count": 120,
   "metadata": {},
   "outputs": [
    {
     "data": {
      "text/plain": [
       "'de_DE'"
      ]
     },
     "execution_count": 120,
     "metadata": {},
     "output_type": "execute_result"
    }
   ],
   "source": [
    "from glob import glob\n",
    "import pandas as pd\n",
    "import os\n",
    "import numpy as np\n",
    "import locale\n",
    "from locale import atof\n",
    "locale.setlocale(locale.LC_ALL, 'de_DE')\n"
   ]
  },
  {
   "cell_type": "code",
   "execution_count": 114,
   "metadata": {},
   "outputs": [
    {
     "name": "stdout",
     "output_type": "stream",
     "text": [
      "data\\AUD_USD Dados Históricos.csv\n",
      "data\\CHF_USD Historical Data.csv\n",
      "data\\EUR_USD Dados Históricos.csv\n",
      "data\\GBP_USD Dados Históricos.csv\n",
      "data\\NOK_USD Dados Históricos.csv\n",
      "data\\NZD_USD Dados Históricos.csv\n",
      "data\\SEK_USD Dados Históricos.csv\n",
      "data\\SGD_USD Dados Históricos.csv\n",
      "data\\TWD_USD Historical Data.csv\n",
      "data\\USD_BRL Dados Históricos.csv\n",
      "data\\USD_CAD Dados Históricos.csv\n",
      "data\\USD_CZK Dados Históricos.csv\n",
      "data\\USD_JPY Dados Históricos.csv\n",
      "data\\USD_KRW Dados Históricos.csv\n",
      "data\\USD_MXN Dados Históricos.csv\n",
      "data\\USD_MYR Dados Históricos.csv\n",
      "data\\USD_PLN Dados Históricos.csv\n",
      "data\\USD_TRY Dados Históricos.csv\n",
      "data\\ZAR_USD Dados Históricos.csv\n"
     ]
    }
   ],
   "source": [
    "list_out = []\n",
    "for file in files:\n",
    "    print(file)\n",
    "    df = pd.read_csv(file)\n",
    "    df.rename(columns={'Date': 'Data', 'Price': 'Último'}, inplace=True)\n",
    "    df['Data'] = pd.to_datetime(df['Data'])\n",
    "    df = df.set_index('Data')\n",
    "    df = df.sort_index()\n",
    "    try:\n",
    "        df['Último'] = [float(v.replace(',', '.')) for v in df['Último']]\n",
    "    except:\n",
    "        pass\n",
    "    df = df[['Último']]\n",
    "    fx_name = file.split('\\\\')[1].split(' ')[0]\n",
    "    df.columns = [fx_name]\n",
    "    \n",
    "    list_out.append(df)\n",
    "    \n",
    "    "
   ]
  },
  {
   "cell_type": "code",
   "execution_count": 124,
   "metadata": {},
   "outputs": [],
   "source": [
    "df_fx = pd.concat(list_out, axis=1)\n",
    "df_fx = df_fx.ffill().dropna()\n",
    "df_fx['USD_KRW'] = [atof(string_nb.replace('.', '')) for v in df_fx['USD_KRW']]\n",
    "df_fx = np.log(df_fx / df_fx.shift(1))\n",
    "df_fx = df_fx.dropna()\n",
    "df_fx.to_csv(os.path.join('data', 'df_fx.csv'))\n",
    "# df_fx.head()"
   ]
  },
  {
   "cell_type": "code",
   "execution_count": null,
   "metadata": {},
   "outputs": [],
   "source": []
  }
 ],
 "metadata": {
  "kernelspec": {
   "display_name": "Python 3",
   "language": "python",
   "name": "python3"
  },
  "language_info": {
   "codemirror_mode": {
    "name": "ipython",
    "version": 3
   },
   "file_extension": ".py",
   "mimetype": "text/x-python",
   "name": "python",
   "nbconvert_exporter": "python",
   "pygments_lexer": "ipython3",
   "version": "3.6.12"
  }
 },
 "nbformat": 4,
 "nbformat_minor": 4
}
